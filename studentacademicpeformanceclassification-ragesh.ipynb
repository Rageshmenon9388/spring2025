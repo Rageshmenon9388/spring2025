{
 "cells": [
  {
   "cell_type": "code",
   "execution_count": 1,
   "id": "fd21c919",
   "metadata": {
    "execution": {
     "iopub.execute_input": "2025-06-27T20:40:40.558903Z",
     "iopub.status.busy": "2025-06-27T20:40:40.558563Z",
     "iopub.status.idle": "2025-06-27T20:40:41.282728Z",
     "shell.execute_reply": "2025-06-27T20:40:41.281472Z"
    },
    "papermill": {
     "duration": 0.730699,
     "end_time": "2025-06-27T20:40:41.284531",
     "exception": false,
     "start_time": "2025-06-27T20:40:40.553832",
     "status": "completed"
    },
    "tags": []
   },
   "outputs": [
    {
     "name": "stdout",
     "output_type": "stream",
     "text": [
      "Path to dataset files: /kaggle/input/student-alcohol-consumption\n"
     ]
    }
   ],
   "source": [
    "import kagglehub\n",
    "\n",
    "# Download latest version\n",
    "path = kagglehub.dataset_download(\"uciml/student-alcohol-consumption\")\n",
    "\n",
    "print(\"Path to dataset files:\", path)"
   ]
  },
  {
   "cell_type": "markdown",
   "id": "39d3699e",
   "metadata": {
    "papermill": {
     "duration": 0.002723,
     "end_time": "2025-06-27T20:40:41.291100",
     "exception": false,
     "start_time": "2025-06-27T20:40:41.288377",
     "status": "completed"
    },
    "tags": []
   },
   "source": [
    "Downloaded the latest version of the student alcohol consumption dataset for analyzing factors affecting student behavior and performance."
   ]
  },
  {
   "cell_type": "code",
   "execution_count": 2,
   "id": "27913da2",
   "metadata": {
    "execution": {
     "iopub.execute_input": "2025-06-27T20:40:41.298817Z",
     "iopub.status.busy": "2025-06-27T20:40:41.298475Z",
     "iopub.status.idle": "2025-06-27T20:40:46.172888Z",
     "shell.execute_reply": "2025-06-27T20:40:46.171881Z"
    },
    "papermill": {
     "duration": 4.880073,
     "end_time": "2025-06-27T20:40:46.174564",
     "exception": false,
     "start_time": "2025-06-27T20:40:41.294491",
     "status": "completed"
    },
    "tags": []
   },
   "outputs": [
    {
     "data": {
      "text/html": [
       "<div>\n",
       "<style scoped>\n",
       "    .dataframe tbody tr th:only-of-type {\n",
       "        vertical-align: middle;\n",
       "    }\n",
       "\n",
       "    .dataframe tbody tr th {\n",
       "        vertical-align: top;\n",
       "    }\n",
       "\n",
       "    .dataframe thead th {\n",
       "        text-align: right;\n",
       "    }\n",
       "</style>\n",
       "<table border=\"1\" class=\"dataframe\">\n",
       "  <thead>\n",
       "    <tr style=\"text-align: right;\">\n",
       "      <th></th>\n",
       "      <th>school</th>\n",
       "      <th>sex</th>\n",
       "      <th>age</th>\n",
       "      <th>address</th>\n",
       "      <th>famsize</th>\n",
       "      <th>Pstatus</th>\n",
       "      <th>Medu</th>\n",
       "      <th>Fedu</th>\n",
       "      <th>Mjob</th>\n",
       "      <th>Fjob</th>\n",
       "      <th>...</th>\n",
       "      <th>famrel</th>\n",
       "      <th>freetime</th>\n",
       "      <th>goout</th>\n",
       "      <th>Dalc</th>\n",
       "      <th>Walc</th>\n",
       "      <th>health</th>\n",
       "      <th>absences</th>\n",
       "      <th>G1</th>\n",
       "      <th>G2</th>\n",
       "      <th>G3</th>\n",
       "    </tr>\n",
       "  </thead>\n",
       "  <tbody>\n",
       "    <tr>\n",
       "      <th>0</th>\n",
       "      <td>GP</td>\n",
       "      <td>F</td>\n",
       "      <td>18</td>\n",
       "      <td>U</td>\n",
       "      <td>GT3</td>\n",
       "      <td>A</td>\n",
       "      <td>4</td>\n",
       "      <td>4</td>\n",
       "      <td>at_home</td>\n",
       "      <td>teacher</td>\n",
       "      <td>...</td>\n",
       "      <td>4</td>\n",
       "      <td>3</td>\n",
       "      <td>4</td>\n",
       "      <td>1</td>\n",
       "      <td>1</td>\n",
       "      <td>3</td>\n",
       "      <td>6</td>\n",
       "      <td>5</td>\n",
       "      <td>6</td>\n",
       "      <td>6</td>\n",
       "    </tr>\n",
       "    <tr>\n",
       "      <th>1</th>\n",
       "      <td>GP</td>\n",
       "      <td>F</td>\n",
       "      <td>17</td>\n",
       "      <td>U</td>\n",
       "      <td>GT3</td>\n",
       "      <td>T</td>\n",
       "      <td>1</td>\n",
       "      <td>1</td>\n",
       "      <td>at_home</td>\n",
       "      <td>other</td>\n",
       "      <td>...</td>\n",
       "      <td>5</td>\n",
       "      <td>3</td>\n",
       "      <td>3</td>\n",
       "      <td>1</td>\n",
       "      <td>1</td>\n",
       "      <td>3</td>\n",
       "      <td>4</td>\n",
       "      <td>5</td>\n",
       "      <td>5</td>\n",
       "      <td>6</td>\n",
       "    </tr>\n",
       "    <tr>\n",
       "      <th>2</th>\n",
       "      <td>GP</td>\n",
       "      <td>F</td>\n",
       "      <td>15</td>\n",
       "      <td>U</td>\n",
       "      <td>LE3</td>\n",
       "      <td>T</td>\n",
       "      <td>1</td>\n",
       "      <td>1</td>\n",
       "      <td>at_home</td>\n",
       "      <td>other</td>\n",
       "      <td>...</td>\n",
       "      <td>4</td>\n",
       "      <td>3</td>\n",
       "      <td>2</td>\n",
       "      <td>2</td>\n",
       "      <td>3</td>\n",
       "      <td>3</td>\n",
       "      <td>10</td>\n",
       "      <td>7</td>\n",
       "      <td>8</td>\n",
       "      <td>10</td>\n",
       "    </tr>\n",
       "    <tr>\n",
       "      <th>3</th>\n",
       "      <td>GP</td>\n",
       "      <td>F</td>\n",
       "      <td>15</td>\n",
       "      <td>U</td>\n",
       "      <td>GT3</td>\n",
       "      <td>T</td>\n",
       "      <td>4</td>\n",
       "      <td>2</td>\n",
       "      <td>health</td>\n",
       "      <td>services</td>\n",
       "      <td>...</td>\n",
       "      <td>3</td>\n",
       "      <td>2</td>\n",
       "      <td>2</td>\n",
       "      <td>1</td>\n",
       "      <td>1</td>\n",
       "      <td>5</td>\n",
       "      <td>2</td>\n",
       "      <td>15</td>\n",
       "      <td>14</td>\n",
       "      <td>15</td>\n",
       "    </tr>\n",
       "    <tr>\n",
       "      <th>4</th>\n",
       "      <td>GP</td>\n",
       "      <td>F</td>\n",
       "      <td>16</td>\n",
       "      <td>U</td>\n",
       "      <td>GT3</td>\n",
       "      <td>T</td>\n",
       "      <td>3</td>\n",
       "      <td>3</td>\n",
       "      <td>other</td>\n",
       "      <td>other</td>\n",
       "      <td>...</td>\n",
       "      <td>4</td>\n",
       "      <td>3</td>\n",
       "      <td>2</td>\n",
       "      <td>1</td>\n",
       "      <td>2</td>\n",
       "      <td>5</td>\n",
       "      <td>4</td>\n",
       "      <td>6</td>\n",
       "      <td>10</td>\n",
       "      <td>10</td>\n",
       "    </tr>\n",
       "  </tbody>\n",
       "</table>\n",
       "<p>5 rows × 33 columns</p>\n",
       "</div>"
      ],
      "text/plain": [
       "  school sex  age address famsize Pstatus  Medu  Fedu     Mjob      Fjob  ...  \\\n",
       "0     GP   F   18       U     GT3       A     4     4  at_home   teacher  ...   \n",
       "1     GP   F   17       U     GT3       T     1     1  at_home     other  ...   \n",
       "2     GP   F   15       U     LE3       T     1     1  at_home     other  ...   \n",
       "3     GP   F   15       U     GT3       T     4     2   health  services  ...   \n",
       "4     GP   F   16       U     GT3       T     3     3    other     other  ...   \n",
       "\n",
       "  famrel freetime  goout  Dalc  Walc health absences  G1  G2  G3  \n",
       "0      4        3      4     1     1      3        6   5   6   6  \n",
       "1      5        3      3     1     1      3        4   5   5   6  \n",
       "2      4        3      2     2     3      3       10   7   8  10  \n",
       "3      3        2      2     1     1      5        2  15  14  15  \n",
       "4      4        3      2     1     2      5        4   6  10  10  \n",
       "\n",
       "[5 rows x 33 columns]"
      ]
     },
     "execution_count": 2,
     "metadata": {},
     "output_type": "execute_result"
    }
   ],
   "source": [
    "# Import Libraries and Load Data\n",
    "import pandas as pd\n",
    "import numpy as np\n",
    "import matplotlib.pyplot as plt\n",
    "import seaborn as sns\n",
    "\n",
    "from sklearn.model_selection import train_test_split, GridSearchCV\n",
    "from sklearn.preprocessing import StandardScaler\n",
    "from sklearn.metrics import classification_report, confusion_matrix\n",
    "from sklearn.linear_model import LogisticRegression\n",
    "from sklearn.ensemble import RandomForestClassifier\n",
    "from sklearn.tree import DecisionTreeClassifier\n",
    "\n",
    "# Load data\n",
    "df = pd.read_csv('/kaggle/input/student-alcohol-consumption/student-mat.csv')\n",
    "df.head()"
   ]
  },
  {
   "cell_type": "markdown",
   "id": "8e0dd3a1",
   "metadata": {
    "papermill": {
     "duration": 0.003114,
     "end_time": "2025-06-27T20:40:46.181331",
     "exception": false,
     "start_time": "2025-06-27T20:40:46.178217",
     "status": "completed"
    },
    "tags": []
   },
   "source": [
    "Imported dataset containing student academic and alcohol consumption features to analyze impact on performance using classification models."
   ]
  },
  {
   "cell_type": "code",
   "execution_count": 3,
   "id": "992692d9",
   "metadata": {
    "execution": {
     "iopub.execute_input": "2025-06-27T20:40:46.189522Z",
     "iopub.status.busy": "2025-06-27T20:40:46.189199Z",
     "iopub.status.idle": "2025-06-27T20:40:46.196716Z",
     "shell.execute_reply": "2025-06-27T20:40:46.195687Z"
    },
    "papermill": {
     "duration": 0.013663,
     "end_time": "2025-06-27T20:40:46.198254",
     "exception": false,
     "start_time": "2025-06-27T20:40:46.184591",
     "status": "completed"
    },
    "tags": []
   },
   "outputs": [],
   "source": [
    "# Create the Target Variable\n",
    "# Create binary label\n",
    "df['high_grade'] = (df['G3'] >= 10).astype(int)"
   ]
  },
  {
   "cell_type": "markdown",
   "id": "079166a6",
   "metadata": {
    "papermill": {
     "duration": 0.003259,
     "end_time": "2025-06-27T20:40:46.204876",
     "exception": false,
     "start_time": "2025-06-27T20:40:46.201617",
     "status": "completed"
    },
    "tags": []
   },
   "source": [
    "Created binary target high_grade indicating if student’s final grade is 10 or higher (passing threshold), suitable for classification modeling."
   ]
  },
  {
   "cell_type": "code",
   "execution_count": 4,
   "id": "ffa6d454",
   "metadata": {
    "execution": {
     "iopub.execute_input": "2025-06-27T20:40:46.212766Z",
     "iopub.status.busy": "2025-06-27T20:40:46.212355Z",
     "iopub.status.idle": "2025-06-27T20:40:46.250220Z",
     "shell.execute_reply": "2025-06-27T20:40:46.248888Z"
    },
    "papermill": {
     "duration": 0.043713,
     "end_time": "2025-06-27T20:40:46.251810",
     "exception": false,
     "start_time": "2025-06-27T20:40:46.208097",
     "status": "completed"
    },
    "tags": []
   },
   "outputs": [
    {
     "name": "stdout",
     "output_type": "stream",
     "text": [
      "X_train shape: (316, 39)\n",
      "y_train shape: (316,)\n"
     ]
    }
   ],
   "source": [
    "import pandas as pd\n",
    "import numpy as np\n",
    "from sklearn.model_selection import train_test_split\n",
    "\n",
    "# Drop G1, G2, G3 only if they exist\n",
    "grades_to_drop = ['G1', 'G2', 'G3']\n",
    "df = df.drop(columns=[col for col in grades_to_drop if col in df.columns])\n",
    "\n",
    "# Encode categorical variables using one-hot encoding\n",
    "df = pd.get_dummies(df, drop_first=True)\n",
    "\n",
    "# Define features and target\n",
    "X = df.drop('high_grade', axis=1)\n",
    "y = df['high_grade']\n",
    "\n",
    "# Train/test split\n",
    "X_train, X_test, y_train, y_test = train_test_split(X, y, test_size=0.2, random_state=42)\n",
    "\n",
    "# Confirm shapes\n",
    "print(\"X_train shape:\", X_train.shape)\n",
    "print(\"y_train shape:\", y_train.shape)\n"
   ]
  },
  {
   "cell_type": "markdown",
   "id": "f8fca18a",
   "metadata": {
    "papermill": {
     "duration": 0.002965,
     "end_time": "2025-06-27T20:40:46.258432",
     "exception": false,
     "start_time": "2025-06-27T20:40:46.255467",
     "status": "completed"
    },
    "tags": []
   },
   "source": [
    "Dropped prior grades to avoid data leakage, encoded categorical features, and split dataset into train and test sets for classification modeling."
   ]
  },
  {
   "cell_type": "code",
   "execution_count": 5,
   "id": "eae5c0bc",
   "metadata": {
    "execution": {
     "iopub.execute_input": "2025-06-27T20:40:46.266384Z",
     "iopub.status.busy": "2025-06-27T20:40:46.266036Z",
     "iopub.status.idle": "2025-06-27T20:40:47.881436Z",
     "shell.execute_reply": "2025-06-27T20:40:47.880204Z"
    },
    "papermill": {
     "duration": 1.621489,
     "end_time": "2025-06-27T20:40:47.883209",
     "exception": false,
     "start_time": "2025-06-27T20:40:46.261720",
     "status": "completed"
    },
    "tags": []
   },
   "outputs": [
    {
     "name": "stdout",
     "output_type": "stream",
     "text": [
      "\n",
      "Logistic Regression Results:\n",
      "              precision    recall  f1-score   support\n",
      "\n",
      "           0       0.67      0.44      0.53        27\n",
      "           1       0.75      0.88      0.81        52\n",
      "\n",
      "    accuracy                           0.73        79\n",
      "   macro avg       0.71      0.66      0.67        79\n",
      "weighted avg       0.72      0.73      0.72        79\n",
      "\n",
      "\n",
      "Random Forest Results:\n",
      "              precision    recall  f1-score   support\n",
      "\n",
      "           0       0.50      0.19      0.27        27\n",
      "           1       0.68      0.90      0.78        52\n",
      "\n",
      "    accuracy                           0.66        79\n",
      "   macro avg       0.59      0.54      0.52        79\n",
      "weighted avg       0.62      0.66      0.60        79\n",
      "\n",
      "\n",
      "Decision Tree Results:\n",
      "              precision    recall  f1-score   support\n",
      "\n",
      "           0       0.47      0.33      0.39        27\n",
      "           1       0.70      0.81      0.75        52\n",
      "\n",
      "    accuracy                           0.65        79\n",
      "   macro avg       0.59      0.57      0.57        79\n",
      "weighted avg       0.62      0.65      0.63        79\n",
      "\n"
     ]
    }
   ],
   "source": [
    "from sklearn.linear_model import LogisticRegression\n",
    "from sklearn.ensemble import RandomForestClassifier\n",
    "from sklearn.tree import DecisionTreeClassifier\n",
    "from sklearn.metrics import classification_report\n",
    "\n",
    "# Define models\n",
    "models = {\n",
    "    \"Logistic Regression\": LogisticRegression(max_iter=1000, random_state=42),\n",
    "    \"Random Forest\": RandomForestClassifier(random_state=42),\n",
    "    \"Decision Tree\": DecisionTreeClassifier(random_state=42)\n",
    "}\n",
    "\n",
    "# Train and evaluate each model\n",
    "for name, model in models.items():\n",
    "    model.fit(X_train, y_train)\n",
    "    y_pred = model.predict(X_test)\n",
    "    print(f\"\\n{name} Results:\")\n",
    "    print(classification_report(y_test, y_pred))\n"
   ]
  },
  {
   "cell_type": "markdown",
   "id": "0ae27514",
   "metadata": {
    "papermill": {
     "duration": 0.003094,
     "end_time": "2025-06-27T20:40:47.889830",
     "exception": false,
     "start_time": "2025-06-27T20:40:47.886736",
     "status": "completed"
    },
    "tags": []
   },
   "source": [
    "Trained Logistic Regression, Random Forest, and Decision Tree classifiers to predict high grades. Evaluated using precision, recall, F1-score, and accuracy on test data."
   ]
  },
  {
   "cell_type": "code",
   "execution_count": 6,
   "id": "e58e75c6",
   "metadata": {
    "execution": {
     "iopub.execute_input": "2025-06-27T20:40:47.897806Z",
     "iopub.status.busy": "2025-06-27T20:40:47.897496Z",
     "iopub.status.idle": "2025-06-27T20:40:54.204823Z",
     "shell.execute_reply": "2025-06-27T20:40:54.203729Z"
    },
    "papermill": {
     "duration": 6.313372,
     "end_time": "2025-06-27T20:40:54.206448",
     "exception": false,
     "start_time": "2025-06-27T20:40:47.893076",
     "status": "completed"
    },
    "tags": []
   },
   "outputs": [
    {
     "name": "stdout",
     "output_type": "stream",
     "text": [
      "Best Params: {'max_depth': 5, 'n_estimators': 100}\n",
      "Best F1 Score (CV): 0.8182589927660233\n"
     ]
    }
   ],
   "source": [
    "from sklearn.ensemble import RandomForestClassifier\n",
    "from sklearn.model_selection import GridSearchCV\n",
    "\n",
    "# Define parameter grid\n",
    "param_grid = {\n",
    "    'n_estimators': [50, 100, 200],\n",
    "    'max_depth': [5, 10, 15]\n",
    "}\n",
    "\n",
    "# Grid search with 5-fold CV using F1 score\n",
    "grid = GridSearchCV(\n",
    "    RandomForestClassifier(random_state=42),\n",
    "    param_grid,\n",
    "    cv=5,\n",
    "    scoring='f1',\n",
    "    n_jobs=-1\n",
    ")\n",
    "\n",
    "# Fit model\n",
    "grid.fit(X_train, y_train)\n",
    "\n",
    "# Output results\n",
    "print(\"Best Params:\", grid.best_params_)\n",
    "print(\"Best F1 Score (CV):\", grid.best_score_)\n"
   ]
  },
  {
   "cell_type": "markdown",
   "id": "7a63af5b",
   "metadata": {
    "papermill": {
     "duration": 0.003048,
     "end_time": "2025-06-27T20:40:54.213124",
     "exception": false,
     "start_time": "2025-06-27T20:40:54.210076",
     "status": "completed"
    },
    "tags": []
   },
   "source": [
    "Used GridSearchCV to optimize RandomForestClassifier hyperparameters for best F1 score. Tuned n_estimators and max_depth using 5-fold cross-validation."
   ]
  },
  {
   "cell_type": "code",
   "execution_count": 7,
   "id": "c8e2bdf6",
   "metadata": {
    "execution": {
     "iopub.execute_input": "2025-06-27T20:40:54.221289Z",
     "iopub.status.busy": "2025-06-27T20:40:54.220998Z",
     "iopub.status.idle": "2025-06-27T20:40:54.757111Z",
     "shell.execute_reply": "2025-06-27T20:40:54.756171Z"
    },
    "papermill": {
     "duration": 0.542233,
     "end_time": "2025-06-27T20:40:54.758633",
     "exception": false,
     "start_time": "2025-06-27T20:40:54.216400",
     "status": "completed"
    },
    "tags": []
   },
   "outputs": [
    {
     "name": "stdout",
     "output_type": "stream",
     "text": [
      "Tuned Random Forest Classifier Report:\n",
      "              precision    recall  f1-score   support\n",
      "\n",
      "           0       0.40      0.07      0.12        27\n",
      "           1       0.66      0.94      0.78        52\n",
      "\n",
      "    accuracy                           0.65        79\n",
      "   macro avg       0.53      0.51      0.45        79\n",
      "weighted avg       0.57      0.65      0.55        79\n",
      "\n"
     ]
    },
    {
     "data": {
      "image/png": "[encoded data removed]",
      "text/plain": [
       "<Figure size 640x480 with 2 Axes>"
      ]
     },
     "metadata": {},
     "output_type": "display_data"
    },
    {
     "data": {
      "image/png": "[encoded data removed]",
      "text/plain": [
       "<Figure size 800x500 with 1 Axes>"
      ]
     },
     "metadata": {},
     "output_type": "display_data"
    }
   ],
   "source": [
    "from sklearn.metrics import classification_report, confusion_matrix, ConfusionMatrixDisplay\n",
    "import matplotlib.pyplot as plt\n",
    "\n",
    "# 1. Evaluate tuned Random Forest on test data\n",
    "best_rf = grid.best_estimator_\n",
    "y_pred_rf = best_rf.predict(X_test)\n",
    "\n",
    "print(\"Tuned Random Forest Classifier Report:\")\n",
    "print(classification_report(y_test, y_pred_rf))\n",
    "\n",
    "# 2. Optional: Confusion Matrix\n",
    "cm = confusion_matrix(y_test, y_pred_rf)\n",
    "disp = ConfusionMatrixDisplay(confusion_matrix=cm, display_labels=['Low', 'High'])\n",
    "disp.plot(cmap='Blues')\n",
    "plt.title(\"Confusion Matrix - Tuned Random Forest\")\n",
    "plt.show()\n",
    "\n",
    "# 3. Feature Importance Plot\n",
    "importances = pd.Series(best_rf.feature_importances_, index=X.columns)\n",
    "top_features = importances.sort_values(ascending=False).head(10)\n",
    "\n",
    "plt.figure(figsize=(8, 5))\n",
    "sns.barplot(x=top_features.values, y=top_features.index)\n",
    "plt.title(\"Top 10 Feature Importances - Random Forest\")\n",
    "plt.xlabel(\"Importance\")\n",
    "plt.ylabel(\"Feature\")\n",
    "plt.tight_layout()\n",
    "plt.show()\n"
   ]
  },
  {
   "cell_type": "markdown",
   "id": "0477845a",
   "metadata": {
    "papermill": {
     "duration": 0.00404,
     "end_time": "2025-06-27T20:40:54.767353",
     "exception": false,
     "start_time": "2025-06-27T20:40:54.763313",
     "status": "completed"
    },
    "tags": []
   },
   "source": [
    "Used the best-tuned Random Forest model for prediction. Achieved highest accuracy and F1 score. Feature importance analysis helps identify key drivers of student performance."
   ]
  }
 ],
 "metadata": {
  "kaggle": {
   "accelerator": "none",
   "dataSources": [
    {
     "databundleVersionId": 561,
     "datasetId": 251,
     "isSourceIdPinned": false,
     "sourceId": 561,
     "sourceType": "datasetVersion"
    }
   ],
   "dockerImageVersionId": 31040,
   "isGpuEnabled": false,
   "isInternetEnabled": true,
   "language": "python",
   "sourceType": "notebook"
  },
  "kernelspec": {
   "display_name": "Python 3",
   "language": "python",
   "name": "python3"
  },
  "language_info": {
   "codemirror_mode": {
    "name": "ipython",
    "version": 3
   },
   "file_extension": ".py",
   "mimetype": "text/x-python",
   "name": "python",
   "nbconvert_exporter": "python",
   "pygments_lexer": "ipython3",
   "version": "3.11.11"
  },
  "papermill": {
   "default_parameters": {},
   "duration": 22.064944,
   "end_time": "2025-06-27T20:40:57.391423",
   "environment_variables": {},
   "exception": null,
   "input_path": "__notebook__.ipynb",
   "output_path": "__notebook__.ipynb",
   "parameters": {},
   "start_time": "2025-06-27T20:40:35.326479",
   "version": "2.6.0"
  }
 },
 "nbformat": 4,
 "nbformat_minor": 5
}
